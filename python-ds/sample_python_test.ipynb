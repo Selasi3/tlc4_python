{
 "cells": [
  {
   "cell_type": "markdown",
   "id": "426792d1",
   "metadata": {},
   "source": [
    "# Introducing Python"
   ]
  },
  {
   "cell_type": "markdown",
   "id": "87c72c5a",
   "metadata": {},
   "source": [
    "**Now type \n",
    "python\n",
    " to use interactive mode. Write \"Hello World\" in python. Using a variable named \n",
    "world\n",
    " rewrite your \"Hello World\" to be \"Hello \" and the current value held in the variable \n",
    "world\n",
    ".**"
   ]
  },
  {
   "cell_type": "code",
   "execution_count": 65,
   "id": "c8b3f4de",
   "metadata": {},
   "outputs": [
    {
     "name": "stdout",
     "output_type": "stream",
     "text": [
      "Hello  World\n"
     ]
    }
   ],
   "source": [
    "world = \"World\"\n",
    "print(\"Hello \", world)"
   ]
  },
  {
   "cell_type": "markdown",
   "id": "712ede93",
   "metadata": {},
   "source": [
    "**Write a script that prompts the user to enter a number. Read this number and print a message depending on whether it is odd or even.**"
   ]
  },
  {
   "cell_type": "code",
   "execution_count": 66,
   "id": "bbb265cc",
   "metadata": {},
   "outputs": [
    {
     "name": "stdout",
     "output_type": "stream",
     "text": [
      "Please enter a number4\n",
      "4 : even\n"
     ]
    }
   ],
   "source": [
    "def enter_num():\n",
    "    num = int(input(\"Please enter a number\"))\n",
    "    return num\n",
    "\n",
    "def check_num(number):\n",
    "    if number%2==0:\n",
    "        print(str(number) + \" : even\")\n",
    "    else:\n",
    "        print(str(number) + \" : odd\")\n",
    "\n",
    "        \n",
    "def run():\n",
    "    number = enter_num()\n",
    "    check_num(number)\n",
    "    \n",
    "\n",
    "        \n",
    "run()"
   ]
  },
  {
   "cell_type": "markdown",
   "id": "30ce6a42",
   "metadata": {},
   "source": [
    "**Create two variables,\n",
    "one containing your name and the other containing your age.\n",
    "Now print out the values of both of these variables on separate lines,\n",
    "then combine both into a single variable and print out its value.**"
   ]
  },
  {
   "cell_type": "code",
   "execution_count": 67,
   "id": "dd6adb1b",
   "metadata": {},
   "outputs": [
    {
     "name": "stdout",
     "output_type": "stream",
     "text": [
      "Selasi\n",
      "20\n"
     ]
    }
   ],
   "source": [
    "my_name = \"Selasi\"\n",
    "my_age = 20\n",
    "print(my_name + \"\\n\" + str(my_age))"
   ]
  },
  {
   "cell_type": "code",
   "execution_count": 68,
   "id": "e908229e",
   "metadata": {},
   "outputs": [
    {
     "name": "stdout",
     "output_type": "stream",
     "text": [
      "Selasi 20\n"
     ]
    }
   ],
   "source": [
    "my_info = my_name + \" \" + str(my_age)\n",
    "print(my_info)"
   ]
  },
  {
   "cell_type": "markdown",
   "id": "8127c269",
   "metadata": {},
   "source": [
    "**Print out a message to the user, asking them to guess a random number (you can decide on a range if you want). Keep asking them to guess until they get it right.\n",
    "You will need to use the random module:**"
   ]
  },
  {
   "cell_type": "code",
   "execution_count": 91,
   "id": "39c2891d",
   "metadata": {},
   "outputs": [
    {
     "name": "stdout",
     "output_type": "stream",
     "text": [
      "Enter a number between 0 and 10\n",
      "1\n",
      "You are wrong,  try again\n",
      "Enter a number between 0 and 10\n",
      "2\n",
      "You are wrong,  try again\n",
      "You are right, you have guess the right number 2\n"
     ]
    }
   ],
   "source": [
    "import random\n",
    "def get_random_number():\n",
    "    rand_num =  random.randrange(0,11)\n",
    "    return rand_num\n",
    "\n",
    "def guess_game():\n",
    "    rand_num = get_random_number()\n",
    "    user_num = -1\n",
    "    while user_num!=rand_num:\n",
    "        user_num = int(input(\"Enter a number between 0 and 10\\n\"))\n",
    "        print(f\"You are wrong,  try again\")\n",
    "\n",
    "#         print(f\"You are wrong the guess number is {rand_num}\")\n",
    "\n",
    "    else:\n",
    "        print(f\"You are right, you have guess the right number {user_num}\")\n",
    "        \n",
    "guess_game()"
   ]
  },
  {
   "cell_type": "markdown",
   "id": "b499c623",
   "metadata": {},
   "source": [
    "### **Declare a list \n",
    "[1, 4, 9, 16, 25]\n",
    " or tuple \n",
    "(1, 4, 9, 16, 25)\n",
    ", and using the for-loop print out all values that are even.**"
   ]
  },
  {
   "cell_type": "code",
   "execution_count": 92,
   "id": "4a340f22",
   "metadata": {},
   "outputs": [
    {
     "name": "stdout",
     "output_type": "stream",
     "text": [
      "2\n",
      "4\n"
     ]
    }
   ],
   "source": [
    "list_1  = [1,2,3,4,5]\n",
    "for num in list_1:\n",
    "    if num%2==0:\n",
    "        print(num)\n",
    "    else:\n",
    "        continue"
   ]
  },
  {
   "cell_type": "markdown",
   "id": "ccf0b8e5",
   "metadata": {},
   "source": [
    "Using a while-loop print out the sum of all the years up to and including your current age, for example, if you were 5 y.o. you would end up with 1 + 2 + 3 + 4 + 5 = 15. Print out the final value in years (15 years). Also print out the calculated number of years as a number of months, days and hours."
   ]
  },
  {
   "cell_type": "code",
   "execution_count": 93,
   "id": "e3a03703",
   "metadata": {},
   "outputs": [
    {
     "name": "stdout",
     "output_type": "stream",
     "text": [
      "Enter your age\n",
      "1\n",
      "Total in years:  1\n",
      "Total in months:  12\n",
      "Total in days:  366\n",
      "Total in hours:  4392\n"
     ]
    }
   ],
   "source": [
    "def get_age():\n",
    "    \n",
    "    my_age = int(input(\"Enter your age\\n\"))\n",
    "    return my_age\n",
    "\n",
    "\n",
    "def info(my_age):\n",
    "\n",
    "    total = 0\n",
    "    while my_age > 0:\n",
    "        total += my_age\n",
    "        my_age -=1\n",
    "    print(\"Total in years: \", total)\n",
    "    print(\"Total in months: \",total*12 )\n",
    "    print(\"Total in days: \",total*366 )\n",
    "    print(\"Total in hours: \",total*366*12 )\n",
    "\n",
    "def run():\n",
    "    age = get_age()\n",
    "    info(age)\n",
    "    \n",
    "run()"
   ]
  },
  {
   "cell_type": "markdown",
   "id": "26ca6b7c",
   "metadata": {},
   "source": [
    "# Data Types"
   ]
  },
  {
   "cell_type": "markdown",
   "id": "bc6e8c87",
   "metadata": {},
   "source": [
    "**Write down the types of the following expressions:**"
   ]
  },
  {
   "cell_type": "code",
   "execution_count": 94,
   "id": "5f534128",
   "metadata": {},
   "outputs": [
    {
     "data": {
      "text/plain": [
       "int"
      ]
     },
     "execution_count": 94,
     "metadata": {},
     "output_type": "execute_result"
    }
   ],
   "source": [
    "type(5)"
   ]
  },
  {
   "cell_type": "code",
   "execution_count": 95,
   "id": "e98f79ea",
   "metadata": {},
   "outputs": [
    {
     "data": {
      "text/plain": [
       "int"
      ]
     },
     "execution_count": 95,
     "metadata": {},
     "output_type": "execute_result"
    }
   ],
   "source": [
    "type(500*50000000)"
   ]
  },
  {
   "cell_type": "code",
   "execution_count": 96,
   "id": "8dbe7571",
   "metadata": {},
   "outputs": [
    {
     "data": {
      "text/plain": [
       "str"
      ]
     },
     "execution_count": 96,
     "metadata": {},
     "output_type": "execute_result"
    }
   ],
   "source": [
    "type('j')"
   ]
  },
  {
   "cell_type": "code",
   "execution_count": 97,
   "id": "cf4267b0",
   "metadata": {},
   "outputs": [
    {
     "data": {
      "text/plain": [
       "complex"
      ]
     },
     "execution_count": 97,
     "metadata": {},
     "output_type": "execute_result"
    }
   ],
   "source": [
    "type(1j)"
   ]
  },
  {
   "cell_type": "code",
   "execution_count": 98,
   "id": "a965d89f",
   "metadata": {},
   "outputs": [
    {
     "data": {
      "text/plain": [
       "tuple"
      ]
     },
     "execution_count": 98,
     "metadata": {},
     "output_type": "execute_result"
    }
   ],
   "source": [
    "type((1,))"
   ]
  },
  {
   "cell_type": "code",
   "execution_count": 100,
   "id": "bf04db19",
   "metadata": {},
   "outputs": [
    {
     "data": {
      "text/plain": [
       "list"
      ]
     },
     "execution_count": 100,
     "metadata": {},
     "output_type": "execute_result"
    }
   ],
   "source": [
    "type([1])"
   ]
  },
  {
   "cell_type": "code",
   "execution_count": 101,
   "id": "4756cedc",
   "metadata": {},
   "outputs": [
    {
     "data": {
      "text/plain": [
       "NoneType"
      ]
     },
     "execution_count": 101,
     "metadata": {},
     "output_type": "execute_result"
    }
   ],
   "source": [
    "type(None)"
   ]
  },
  {
   "cell_type": "code",
   "execution_count": 102,
   "id": "66d6fd9f",
   "metadata": {},
   "outputs": [
    {
     "data": {
      "text/plain": [
       "float"
      ]
     },
     "execution_count": 102,
     "metadata": {},
     "output_type": "execute_result"
    }
   ],
   "source": [
    "type(5.551151231e-17)"
   ]
  },
  {
   "cell_type": "code",
   "execution_count": 105,
   "id": "4c229205",
   "metadata": {},
   "outputs": [
    {
     "ename": "NameError",
     "evalue": "name 'Decimal' is not defined",
     "output_type": "error",
     "traceback": [
      "\u001b[1;31m---------------------------------------------------------------------------\u001b[0m",
      "\u001b[1;31mNameError\u001b[0m                                 Traceback (most recent call last)",
      "\u001b[1;32m<ipython-input-105-a155bb106a24>\u001b[0m in \u001b[0;36m<module>\u001b[1;34m\u001b[0m\n\u001b[1;32m----> 1\u001b[1;33m \u001b[0mprint\u001b[0m\u001b[1;33m(\u001b[0m\u001b[0mDecimal\u001b[0m\u001b[1;33m(\u001b[0m\u001b[1;34m\".1\"\u001b[0m\u001b[1;33m)\u001b[0m \u001b[1;33m+\u001b[0m \u001b[0mDecimal\u001b[0m\u001b[1;33m(\u001b[0m\u001b[1;34m\".1\"\u001b[0m\u001b[1;33m)\u001b[0m \u001b[1;33m+\u001b[0m \u001b[0mDecimal\u001b[0m\u001b[1;33m(\u001b[0m\u001b[1;34m\".1\"\u001b[0m\u001b[1;33m)\u001b[0m\u001b[1;33m+\u001b[0m\u001b[0mDecimal\u001b[0m\u001b[1;33m(\u001b[0m\u001b[1;34m\"0.3\"\u001b[0m\u001b[1;33m)\u001b[0m\u001b[1;33m)\u001b[0m\u001b[1;33m\u001b[0m\u001b[1;33m\u001b[0m\u001b[0m\n\u001b[0m\u001b[0;32m      2\u001b[0m \u001b[1;33m\u001b[0m\u001b[0m\n",
      "\u001b[1;31mNameError\u001b[0m: name 'Decimal' is not defined"
     ]
    }
   ],
   "source": [
    "# print(Decimal(\".1\") + Decimal(\".1\") + Decimal(\".1\")+Decimal(\"0.3\"))\n",
    "    "
   ]
  },
  {
   "cell_type": "markdown",
   "id": "c07d712b",
   "metadata": {},
   "source": [
    "**Write a script to print out the first 20 Fibonacci numbers.**"
   ]
  },
  {
   "cell_type": "code",
   "execution_count": null,
   "id": "19355a1f",
   "metadata": {},
   "outputs": [],
   "source": []
  },
  {
   "cell_type": "code",
   "execution_count": 121,
   "id": "f2f76a3b",
   "metadata": {},
   "outputs": [
    {
     "name": "stdout",
     "output_type": "stream",
     "text": [
      "0\n",
      "1\n",
      "1\n",
      "2\n",
      "3\n",
      "5\n",
      "8\n",
      "13\n",
      "21\n",
      "34\n",
      "55\n",
      "89\n",
      "144\n",
      "233\n",
      "377\n",
      "610\n",
      "987\n",
      "1597\n",
      "2584\n",
      "4181\n"
     ]
    }
   ],
   "source": [
    "list_2 = []\n",
    "for i in range(0,20):\n",
    "    if i< 2:\n",
    "        list_2.append(i)\n",
    "    else:\n",
    "         list_2.append(list_2[-1]+list_2[-2])\n",
    "for num in list_2:\n",
    "    print(num)\n",
    "\n"
   ]
  },
  {
   "cell_type": "markdown",
   "id": "f60b1354",
   "metadata": {},
   "source": [
    "**Examine the string type and some of its methods:**\n",
    "\n",
    "**Assign your name to a variable. Print out the last character of the variable (remember, strings are just lists of ``chars``).**\n",
    "\n",
    "**(``\":\"``), for example: ``m:i:k:e``.**"
   ]
  },
  {
   "cell_type": "code",
   "execution_count": 115,
   "id": "4f8836aa",
   "metadata": {},
   "outputs": [
    {
     "name": "stdout",
     "output_type": "stream",
     "text": [
      "Last character of my_name:  i\n"
     ]
    }
   ],
   "source": [
    "my_name = \"Selasi\"\n",
    "print(\"Last character of my_name: \", my_name[-1])"
   ]
  },
  {
   "cell_type": "markdown",
   "id": "1c8a3a08",
   "metadata": {},
   "source": [
    "Now use a for loop to print each letter in your name followed by a colon (``\":\"``), for example: ``m:i:k:e``."
   ]
  },
  {
   "cell_type": "code",
   "execution_count": 144,
   "id": "a10bc857",
   "metadata": {},
   "outputs": [
    {
     "name": "stdout",
     "output_type": "stream",
     "text": [
      "S:e:l:a:s:i:"
     ]
    }
   ],
   "source": [
    "for i in my_name:\n",
    "    print(i, end=\":\")"
   ]
  },
  {
   "cell_type": "markdown",
   "id": "26a12f82",
   "metadata": {},
   "source": [
    "Write a script that asks the user to enter 10 numbers between 1 and 8. \n",
    "\n",
    "Store the 10 numbers in a list.\n",
    "\n",
    "Count the number of times the user enters the number 5.\n",
    "Note that lists have a method called \n",
    "count()\n",
    "."
   ]
  },
  {
   "cell_type": "code",
   "execution_count": 173,
   "id": "b5f73661",
   "metadata": {},
   "outputs": [
    {
     "name": "stdout",
     "output_type": "stream",
     "text": [
      "Enter a number between 1 and 8\n",
      "2\n",
      "Enter a number between 1 and 8\n",
      "3\n",
      "Enter a number between 1 and 8\n",
      "4\n",
      "Enter a number between 1 and 8\n",
      "5\n",
      "Enter a number between 1 and 8\n",
      "6\n",
      "Enter a number between 1 and 8\n",
      "7\n",
      "Enter a number between 1 and 8\n",
      "5\n",
      "Enter a number between 1 and 8\n",
      "5\n",
      "Enter a number between 1 and 8\n",
      "5\n",
      "Enter a number between 1 and 8\n",
      "5\n",
      "Count of 5:  5\n"
     ]
    }
   ],
   "source": [
    "list_2 = []\n",
    "\n",
    "count = 0 \n",
    "\n",
    "while count< 10:\n",
    "    num =int (input(\"Enter a number between 1 and 8\\n\"))\n",
    "\n",
    "    if (num>8 or num<1):\n",
    "        count-=1\n",
    "    else:\n",
    "        list_2.append(num)\n",
    "    count+=1\n",
    "\n",
    "print(\"Count of 5: \",list_2.count(5))\n",
    "\n",
    "    "
   ]
  },
  {
   "cell_type": "markdown",
   "id": "87763649",
   "metadata": {},
   "source": [
    "**Declare a list [1, 4, 9, 16, 25] (as in the previous exercise); use list comprehension to filter out all the odd numbers**"
   ]
  },
  {
   "cell_type": "code",
   "execution_count": 182,
   "id": "ca08b9b2",
   "metadata": {},
   "outputs": [
    {
     "data": {
      "text/plain": [
       "[4, 16]"
      ]
     },
     "execution_count": 182,
     "metadata": {},
     "output_type": "execute_result"
    }
   ],
   "source": [
    "list_3 =  [ 1,4,9,16,25]\n",
    "[i for i in list_3 if i%2==0]"
   ]
  },
  {
   "cell_type": "markdown",
   "id": "48f26ff0",
   "metadata": {},
   "source": [
    "# Functions"
   ]
  },
  {
   "cell_type": "markdown",
   "id": "5bf9666f",
   "metadata": {},
   "source": [
    "Experiment with the following ways to pass arguments to functions:"
   ]
  },
  {
   "cell_type": "code",
   "execution_count": 183,
   "id": "eadd361f",
   "metadata": {},
   "outputs": [
    {
     "name": "stdout",
     "output_type": "stream",
     "text": [
      "x:  10\n"
     ]
    }
   ],
   "source": [
    "def inc(x):\n",
    "    x=x+1\n",
    "x= 10\n",
    "inc(x)\n",
    "print(\"x: \",x)\n",
    "\n",
    "\n"
   ]
  },
  {
   "cell_type": "markdown",
   "id": "a6f5975e",
   "metadata": {},
   "source": [
    "**Write a function that takes the last element in a list and moves it to the front of the list.**"
   ]
  },
  {
   "cell_type": "code",
   "execution_count": 184,
   "id": "9e862878",
   "metadata": {},
   "outputs": [
    {
     "data": {
      "text/plain": [
       "[5, 1, 2, 3, 4]"
      ]
     },
     "execution_count": 184,
     "metadata": {},
     "output_type": "execute_result"
    }
   ],
   "source": [
    "my_list = [1,2,3,4,5]\n",
    "def my_func(lists):\n",
    "    last_element = lists.pop()\n",
    "    lists.insert(0,last_element)\n",
    "    return lists\n",
    "my_func(my_list)"
   ]
  },
  {
   "cell_type": "markdown",
   "id": "ec3c6904",
   "metadata": {},
   "source": [
    "**Write a function that takes a list and a variable number of indices. The function should return a tuple of the values at those indices.**"
   ]
  },
  {
   "cell_type": "code",
   "execution_count": 206,
   "id": "09f5fd2b",
   "metadata": {},
   "outputs": [],
   "source": [
    "# list_3  = [1,2,3,4,5,6]\n",
    "# num = 2\n",
    "\n",
    "# def new_func(list_1, index):\n",
    "#     return (index, list_1[index])\n",
    "\n",
    "# new_func(list_3,num)"
   ]
  },
  {
   "cell_type": "code",
   "execution_count": 207,
   "id": "32dc0e18",
   "metadata": {},
   "outputs": [
    {
     "name": "stdout",
     "output_type": "stream",
     "text": [
      "(2, 4, 6)\n"
     ]
    }
   ],
   "source": [
    "\n",
    "def test1(list, **kwargs):\n",
    "    list1 = []\n",
    "    \n",
    "    for arg in kwargs.values():\n",
    "        list1.append(list[arg])    \n",
    "    \n",
    "    return tuple(list1)\n",
    "\n",
    "list=[1,2,3,4,5,6,7,8,9]\n",
    "\n",
    "print(test1(list, index1=1 , index3 = 3, index5=5))"
   ]
  },
  {
   "cell_type": "markdown",
   "id": "b56be41a",
   "metadata": {},
   "source": [
    "**Write a function that takes named parameters and returns the parameters as a Dictionary of parameter name -> value**\n",
    "\n"
   ]
  },
  {
   "cell_type": "code",
   "execution_count": 225,
   "id": "a11a8793",
   "metadata": {},
   "outputs": [],
   "source": [
    "# my_dict = {1:\"One\",2:\"Two\",3:\"Three\"}\n",
    "# def new_dict(dic):\n",
    "#     for (k,v) in dic.items():\n",
    "#         print(k , \"->\", v)\n",
    "\n",
    "# new_dict(my_dict)"
   ]
  },
  {
   "cell_type": "code",
   "execution_count": 226,
   "id": "0362c6bb",
   "metadata": {},
   "outputs": [
    {
     "name": "stdout",
     "output_type": "stream",
     "text": [
      "{'Winter': ('Dec', 'Jan', 'Feb'), 'Spring': ('Mar', 'Apr', 'May'), 'Fall': ('Jun', 'Jul', 'Aug'), 'Summer': ('Sep', 'Oct', 'Nov')}\n"
     ]
    }
   ],
   "source": [
    "def season(**kwargs):\n",
    "    dict = {}\n",
    "    \n",
    "    for key in kwargs.keys():\n",
    "        dict[key]= kwargs[key]\n",
    "        \n",
    "    return dict\n",
    "\n",
    "seasons = season(Winter = (\"Dec\", \"Jan\", \"Feb\"), Spring = (\"Mar\", \"Apr\", \"May\"),\n",
    "                 Fall = (\"Jun\", \"Jul\", \"Aug\"),Summer =(\"Sep\", \"Oct\", \"Nov\"))\n",
    "\n",
    "print(seasons)"
   ]
  },
  {
   "cell_type": "markdown",
   "id": "1ca924d3",
   "metadata": {},
   "source": [
    "**Write a function that take an initial value and a tuple of ints and accumulates into the initial value. For example:\n",
    "acc(0, (1,3,5)) returns 9**\n"
   ]
  },
  {
   "cell_type": "code",
   "execution_count": 213,
   "id": "d25fbfe2",
   "metadata": {},
   "outputs": [
    {
     "data": {
      "text/plain": [
       "9"
      ]
     },
     "execution_count": 213,
     "metadata": {},
     "output_type": "execute_result"
    }
   ],
   "source": [
    "def acc(val, tup):\n",
    "    sum_tup = 0\n",
    "    for i in tup:\n",
    "        sum_tup +=i\n",
    "    total = sum_tup+val\n",
    "    return total\n",
    "acc(0,(1,3,5))"
   ]
  },
  {
   "cell_type": "markdown",
   "id": "fbd89d35",
   "metadata": {},
   "source": [
    "**Rewrite your Fibonacci exercise from earlier to use a function that takes an argument for how many numbers are required. Test your code with the following calls:**"
   ]
  },
  {
   "cell_type": "code",
   "execution_count": 222,
   "id": "1b24db5a",
   "metadata": {},
   "outputs": [
    {
     "name": "stdout",
     "output_type": "stream",
     "text": [
      "0\n",
      "1\n",
      "1\n",
      "2\n",
      "3\n",
      "5\n",
      "8\n",
      "13\n",
      "21\n",
      "34\n",
      "55\n",
      "89\n",
      "144\n",
      "233\n",
      "377\n",
      "610\n",
      "987\n",
      "1597\n",
      "2584\n",
      "4181\n"
     ]
    }
   ],
   "source": [
    "def fib_seq(number):\n",
    "    list_2 = []\n",
    "    for i in range(0,number):\n",
    "        if i< 2:\n",
    "            list_2.append(i)\n",
    "        else:\n",
    "             list_2.append(list_2[-1]+list_2[-2])\n",
    "    for num in list_2:\n",
    "        print(num)\n",
    "        \n",
    "fib_seq(20)\n",
    "        "
   ]
  },
  {
   "cell_type": "markdown",
   "id": "71c7966a",
   "metadata": {},
   "source": [
    "**Rewrite the function again, so that it returns a list of values.**\n",
    "\n"
   ]
  },
  {
   "cell_type": "code",
   "execution_count": 224,
   "id": "9ab39d62",
   "metadata": {},
   "outputs": [
    {
     "name": "stdout",
     "output_type": "stream",
     "text": [
      "[0, 1, 1, 2, 3, 5, 8, 13, 21, 34, 55, 89, 144, 233, 377, 610, 987, 1597, 2584, 4181]\n"
     ]
    }
   ],
   "source": [
    "def fib_seq(number):\n",
    "    list_2 = []\n",
    "    for i in range(0,number):\n",
    "        if i< 2:\n",
    "            list_2.append(i)\n",
    "        else:\n",
    "             list_2.append(list_2[-1]+list_2[-2])\n",
    "    print(list_2)\n",
    "fib_seq(20)"
   ]
  },
  {
   "cell_type": "code",
   "execution_count": null,
   "id": "1718c827",
   "metadata": {},
   "outputs": [],
   "source": []
  }
 ],
 "metadata": {
  "kernelspec": {
   "display_name": "Python 3",
   "language": "python",
   "name": "python3"
  },
  "language_info": {
   "codemirror_mode": {
    "name": "ipython",
    "version": 3
   },
   "file_extension": ".py",
   "mimetype": "text/x-python",
   "name": "python",
   "nbconvert_exporter": "python",
   "pygments_lexer": "ipython3",
   "version": "3.8.8"
  }
 },
 "nbformat": 4,
 "nbformat_minor": 5
}
